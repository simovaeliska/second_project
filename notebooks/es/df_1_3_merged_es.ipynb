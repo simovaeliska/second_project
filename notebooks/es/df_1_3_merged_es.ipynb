{
 "cells": [
  {
   "cell_type": "code",
   "execution_count": null,
   "id": "36c71ab5-b2a3-473f-b138-b5680be62144",
   "metadata": {},
   "outputs": [],
   "source": [
    "import pandas as pd\n",
    "import matplotlib.pyplot as plt\n",
    "import seaborn as sns\n",
    "import numpy as np\n",
    "\n",
    "%matplotlib inline"
   ]
  },
  {
   "cell_type": "code",
   "execution_count": null,
   "id": "aff0f521-fc32-43d3-8d59-ff327258fc0a",
   "metadata": {},
   "outputs": [],
   "source": [
    "def clean_df_final_demo():\n",
    "    #key fields client_id, clnt_age, gender, num_accts, balance, clnt_tenure_yr\n",
    "    df_copy = pd.read_csv(\"df_final_demo.txt\")\n",
    "    df_copy = df_copy.dropna()\n",
    "    corrected_columns = {\"gendr\" : \"gender\", \"bal\" : \"balance\"}\n",
    "    df_copy.rename(columns=corrected_columns, inplace = True)\n",
    "    df_copy = df_copy[df_copy['gender'] != 'X']    \n",
    "    gender_mapping = {\n",
    "    'M': 'Male',\n",
    "    'F': 'Female',\n",
    "    'U': 'Unknown',\n",
    "    }\n",
    "    df_copy['gender'] = df_copy['gender'].map(gender_mapping)\n",
    "    return df_copy\n",
    "\n",
    "df_1 = clean_df_final_demo()"
   ]
  },
  {
   "cell_type": "code",
   "execution_count": null,
   "id": "df86fc7e-cb3e-4553-9e85-fb228f407350",
   "metadata": {},
   "outputs": [],
   "source": [
    "def clean_df_experiment_clients():\n",
    "    df_copy = pd.read_csv(\"df_final_experiment_clients.txt\")\n",
    "    df_copy = df_copy.dropna() # dropping the NaN values\n",
    "    df_copy.rename(columns={'Variation': 'variation'}, inplace=True)\n",
    "    return df_copy\n",
    "\n",
    "df_3 = clean_df_experiment_clients()"
   ]
  },
  {
   "cell_type": "code",
   "execution_count": null,
   "id": "1b6c1e72-22d1-4ef7-8083-9514f27272d5",
   "metadata": {},
   "outputs": [],
   "source": [
    "df_merged = df_1.merge(df_3, on='client_id', how='inner')\n",
    "print(df_merged.isnull().sum())\n",
    "df_merged"
   ]
  },
  {
   "cell_type": "code",
   "execution_count": null,
   "id": "3a89656a-3d7c-4e61-8d38-8e331262c70c",
   "metadata": {},
   "outputs": [],
   "source": [
    "df_merged.to_csv(r'/Users/eliskasimova/Desktop/data_analytics_course_2024/project_folder/labs/second_project/data/clean/df_merged.csv', index=False)"
   ]
  }
 ],
 "metadata": {
  "kernelspec": {
   "display_name": "Python 3 (ipykernel)",
   "language": "python",
   "name": "python3"
  },
  "language_info": {
   "codemirror_mode": {
    "name": "ipython",
    "version": 3
   },
   "file_extension": ".py",
   "mimetype": "text/x-python",
   "name": "python",
   "nbconvert_exporter": "python",
   "pygments_lexer": "ipython3",
   "version": "3.12.4"
  }
 },
 "nbformat": 4,
 "nbformat_minor": 5
}
