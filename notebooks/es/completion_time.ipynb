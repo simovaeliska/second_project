{
 "cells": [
  {
   "cell_type": "code",
   "execution_count": 3,
   "id": "2ac9acb5-99c0-4b7f-8768-f298649b7f37",
   "metadata": {},
   "outputs": [],
   "source": [
    "import pandas as pd\n",
    "import matplotlib.pyplot as plt\n",
    "import seaborn as sns\n",
    "import numpy as np\n",
    "import plotly.graph_objects as go\n",
    "%matplotlib inline"
   ]
  },
  {
   "cell_type": "code",
   "execution_count": 4,
   "id": "e443966e-15ab-43e8-b1c4-cb39257f2b87",
   "metadata": {
    "scrolled": true
   },
   "outputs": [],
   "source": [
    "df_1 = pd.read_csv(r'/Users/eliskasimova/Desktop/data_analytics_course_2024/project_folder/labs/second_project/data/clean/df_merged.csv')\n",
    "df_2 = pd.read_csv(r'/Users/eliskasimova/Desktop/data_analytics_course_2024/project_folder/labs/second_project/data/raw/df_final_web_data_pt_1.txt')\n",
    "df_3 = pd.read_csv(r'/Users/eliskasimova/Desktop/data_analytics_course_2024/project_folder/labs/second_project/data/raw/df_final_web_data_pt_2.txt')\n",
    "merged_df = pd.concat([df_2, df_3], axis=0)\n",
    "\n",
    "df_merged = df_1.merge(merged_df, on='client_id', how='inner')\n",
    "df_merged['date_time'] = pd.to_datetime(df_merged['date_time'], errors='coerce')  # coerce invalid formats to NaT"
   ]
  },
  {
   "cell_type": "markdown",
   "id": "ac6462d6-51fd-4b80-ac58-9d51704622de",
   "metadata": {},
   "source": [
    "### Groups sorting to control/test"
   ]
  },
  {
   "cell_type": "code",
   "execution_count": 6,
   "id": "0b667030-dcbf-4ef8-a6fa-da2f4e2fb1e1",
   "metadata": {},
   "outputs": [],
   "source": [
    "# define the custom sorting order for the process steps\n",
    "process_step_order = ['start', 'step_1', 'step_2', 'step_3', 'confirm']\n",
    "# apply the custom order to the process_step column for both groups\n",
    "df_merged['process_step'] = pd.Categorical(df_merged['process_step'], categories=process_step_order, ordered=True)\n",
    "\n",
    "#filter groups based on test/control\n",
    "control_group = df_merged[df_merged['variation'] == 'Control']\n",
    "test_group = df_merged[df_merged['variation'] == 'Test']\n",
    "\n",
    "# sort control group\n",
    "control_group_sorted = control_group.sort_values(by=['client_id', 'visit_id', 'process_step', 'date_time'])\n",
    "# sort test group\n",
    "test_group_sorted = test_group.sort_values(by=['client_id', 'visit_id', 'process_step', 'date_time'])"
   ]
  },
  {
   "cell_type": "code",
   "execution_count": 8,
   "id": "a6dcf228-613d-4add-94a2-7c54f4b8c246",
   "metadata": {},
   "outputs": [],
   "source": [
    "# Function to get latest starts\n",
    "def filter_latest_starts(group_df):\n",
    "    starts_only = group_df[group_df['process_step'] == 'start']\n",
    "    latest_starts = starts_only.loc[starts_only.groupby('visit_id')['date_time'].idxmax()]\n",
    "    # Merge back to get the full process after the last start\n",
    "    return df_merged.merge(latest_starts[['visit_id', 'date_time']], on=['visit_id', 'date_time'], how='inner')\n",
    "\n",
    "# Apply to both groups\n",
    "filtered_control = filter_latest_starts(control_group)\n",
    "filtered_test = filter_latest_starts(test_group)\n",
    "\n",
    "#Check if it works\n",
    "client_total_entries = df_merged[df_merged[\"client_id\"] == 2304905]\n",
    "client_last_start = filtered_control[filtered_control['client_id'] == 2304905 ]"
   ]
  },
  {
   "cell_type": "markdown",
   "id": "6d04dcd5-756e-4ee2-b313-687b276e24a1",
   "metadata": {},
   "source": [
    "### Completion time without outliers for control group per each step"
   ]
  },
  {
   "cell_type": "code",
   "execution_count": 11,
   "id": "94afac0b-ac85-45ef-9691-16cced66fde8",
   "metadata": {},
   "outputs": [
    {
     "name": "stderr",
     "output_type": "stream",
     "text": [
      "/var/folders/7h/j883bpy50yx9ffn06wrdxzy00000gn/T/ipykernel_1234/3136746350.py:42: FutureWarning: The default of observed=False is deprecated and will be changed to True in a future version of pandas. Pass observed=False to retain current behavior or observed=True to adopt the future default and silence this warning.\n",
      "  average_completion_time_minutes_filtered_control = filtered_data.groupby('process_step')['completion_time_minutes'].mean().reset_index()\n"
     ]
    },
    {
     "data": {
      "text/html": [
       "<div>\n",
       "<style scoped>\n",
       "    .dataframe tbody tr th:only-of-type {\n",
       "        vertical-align: middle;\n",
       "    }\n",
       "\n",
       "    .dataframe tbody tr th {\n",
       "        vertical-align: top;\n",
       "    }\n",
       "\n",
       "    .dataframe thead th {\n",
       "        text-align: right;\n",
       "    }\n",
       "</style>\n",
       "<table border=\"1\" class=\"dataframe\">\n",
       "  <thead>\n",
       "    <tr style=\"text-align: right;\">\n",
       "      <th></th>\n",
       "      <th>process_step</th>\n",
       "      <th>completion_time_minutes</th>\n",
       "    </tr>\n",
       "  </thead>\n",
       "  <tbody>\n",
       "    <tr>\n",
       "      <th>0</th>\n",
       "      <td>start</td>\n",
       "      <td>0.483977</td>\n",
       "    </tr>\n",
       "    <tr>\n",
       "      <th>1</th>\n",
       "      <td>step_1</td>\n",
       "      <td>0.526296</td>\n",
       "    </tr>\n",
       "    <tr>\n",
       "      <th>2</th>\n",
       "      <td>step_2</td>\n",
       "      <td>1.083293</td>\n",
       "    </tr>\n",
       "    <tr>\n",
       "      <th>3</th>\n",
       "      <td>step_3</td>\n",
       "      <td>1.112592</td>\n",
       "    </tr>\n",
       "    <tr>\n",
       "      <th>4</th>\n",
       "      <td>confirm</td>\n",
       "      <td>0.733098</td>\n",
       "    </tr>\n",
       "  </tbody>\n",
       "</table>\n",
       "</div>"
      ],
      "text/plain": [
       "  process_step  completion_time_minutes\n",
       "0        start                 0.483977\n",
       "1       step_1                 0.526296\n",
       "2       step_2                 1.083293\n",
       "3       step_3                 1.112592\n",
       "4      confirm                 0.733098"
      ]
     },
     "metadata": {},
     "output_type": "display_data"
    }
   ],
   "source": [
    "# Convert 'date_time' column to datetime, coercing invalid formats to NaT\n",
    "df_merged['date_time'] = pd.to_datetime(df_merged['date_time'], errors='coerce')\n",
    "\n",
    "# Function to calculate completion time for each step in the control group, considering multiple visits\n",
    "def calculate_completion_time_with_visits(group_df):\n",
    "    # Sort by client_id, visit_id, and date_time to ensure chronological order\n",
    "    group_df = group_df.sort_values(by=['client_id', 'visit_id', 'date_time'])\n",
    "    \n",
    "    # Create a new column to store the next step time for each visit\n",
    "    group_df['next_step_time'] = group_df.groupby(['client_id', 'visit_id'])['date_time'].shift(-1)\n",
    "    \n",
    "    # Only keep rows where the next step exists (i.e., not NaT)\n",
    "    group_df = group_df.dropna(subset=['next_step_time'])\n",
    "    \n",
    "    # Calculate the completion time as the time difference between current and next step\n",
    "    group_df['completion_time'] = group_df['next_step_time'] - group_df['date_time']\n",
    "    \n",
    "    return group_df[['client_id', 'visit_id', 'process_step', 'date_time', 'next_step_time', 'completion_time']]\n",
    "\n",
    "# Apply the function to the control group considering multiple visits\n",
    "control_group_completion_times_with_visits = calculate_completion_time_with_visits(control_group_sorted)\n",
    "\n",
    "# Convert completion_time to minutes for easier interpretation\n",
    "control_group_completion_times_with_visits['completion_time_minutes'] = control_group_completion_times_with_visits['completion_time'].dt.total_seconds() / 60\n",
    "\n",
    "# Calculate the IQR (Interquartile Range) for completion time\n",
    "Q1 = control_group_completion_times_with_visits['completion_time_minutes'].quantile(0.25)\n",
    "Q3 = control_group_completion_times_with_visits['completion_time_minutes'].quantile(0.75)\n",
    "IQR = Q3 - Q1\n",
    "\n",
    "# Define the upper and lower bounds for outliers\n",
    "lower_bound = Q1 - 1.5 * IQR\n",
    "upper_bound = Q3 + 1.5 * IQR\n",
    "\n",
    "# Filter out the outliers based on IQR\n",
    "filtered_data = control_group_completion_times_with_visits[\n",
    "    (control_group_completion_times_with_visits['completion_time_minutes'] >= lower_bound) &\n",
    "    (control_group_completion_times_with_visits['completion_time_minutes'] <= upper_bound)\n",
    "]\n",
    "\n",
    "# calculate the average completion time in minutes for each process step, after removing outliers\n",
    "average_completion_time_minutes_filtered_control = filtered_data.groupby('process_step')['completion_time_minutes'].mean().reset_index()\n",
    "display(average_completion_time_minutes_filtered_control)"
   ]
  },
  {
   "cell_type": "markdown",
   "id": "62648092-f625-4c35-a964-37e82565b7fe",
   "metadata": {},
   "source": [
    "### Completion time without outliers for test group per each step"
   ]
  },
  {
   "cell_type": "code",
   "execution_count": 40,
   "id": "44275c62-60ea-460d-b553-46b18ebe5ae0",
   "metadata": {},
   "outputs": [
    {
     "name": "stderr",
     "output_type": "stream",
     "text": [
      "/var/folders/7h/j883bpy50yx9ffn06wrdxzy00000gn/T/ipykernel_1378/1772542304.py:39: FutureWarning: The default of observed=False is deprecated and will be changed to True in a future version of pandas. Pass observed=False to retain current behavior or observed=True to adopt the future default and silence this warning.\n",
      "  average_completion_time_minutes_filtered_test = filtered_data.groupby('process_step')['completion_time_minutes'].mean().reset_index()\n"
     ]
    },
    {
     "data": {
      "text/html": [
       "<div>\n",
       "<style scoped>\n",
       "    .dataframe tbody tr th:only-of-type {\n",
       "        vertical-align: middle;\n",
       "    }\n",
       "\n",
       "    .dataframe tbody tr th {\n",
       "        vertical-align: top;\n",
       "    }\n",
       "\n",
       "    .dataframe thead th {\n",
       "        text-align: right;\n",
       "    }\n",
       "</style>\n",
       "<table border=\"1\" class=\"dataframe\">\n",
       "  <thead>\n",
       "    <tr style=\"text-align: right;\">\n",
       "      <th></th>\n",
       "      <th>process_step</th>\n",
       "      <th>completion_time_minutes</th>\n",
       "    </tr>\n",
       "  </thead>\n",
       "  <tbody>\n",
       "    <tr>\n",
       "      <th>0</th>\n",
       "      <td>start</td>\n",
       "      <td>0.463561</td>\n",
       "    </tr>\n",
       "    <tr>\n",
       "      <th>1</th>\n",
       "      <td>step_1</td>\n",
       "      <td>0.607196</td>\n",
       "    </tr>\n",
       "    <tr>\n",
       "      <th>2</th>\n",
       "      <td>step_2</td>\n",
       "      <td>1.040396</td>\n",
       "    </tr>\n",
       "    <tr>\n",
       "      <th>3</th>\n",
       "      <td>step_3</td>\n",
       "      <td>0.982517</td>\n",
       "    </tr>\n",
       "    <tr>\n",
       "      <th>4</th>\n",
       "      <td>confirm</td>\n",
       "      <td>1.093128</td>\n",
       "    </tr>\n",
       "  </tbody>\n",
       "</table>\n",
       "</div>"
      ],
      "text/plain": [
       "  process_step  completion_time_minutes\n",
       "0        start                 0.463561\n",
       "1       step_1                 0.607196\n",
       "2       step_2                 1.040396\n",
       "3       step_3                 0.982517\n",
       "4      confirm                 1.093128"
      ]
     },
     "metadata": {},
     "output_type": "display_data"
    }
   ],
   "source": [
    "# Function to calculate completion time for each step in the test group, considering multiple visits\n",
    "def calculate_completion_time_with_visits(group_df):\n",
    "    # Sort by client_id, visit_id, and date_time to ensure chronological order\n",
    "    group_df = group_df.sort_values(by=['client_id', 'visit_id', 'date_time'])\n",
    "    \n",
    "    # Create a new column to store the next step time for each visit\n",
    "    group_df['next_step_time'] = group_df.groupby(['client_id', 'visit_id'])['date_time'].shift(-1)\n",
    "    \n",
    "    # Only keep rows where the next step exists (i.e., not NaT)\n",
    "    group_df = group_df.dropna(subset=['next_step_time'])\n",
    "    \n",
    "    # Calculate the completion time as the time difference between current and next step\n",
    "    group_df['completion_time'] = group_df['next_step_time'] - group_df['date_time']\n",
    "    \n",
    "    return group_df[['client_id', 'visit_id', 'process_step', 'date_time', 'next_step_time', 'completion_time']]\n",
    "\n",
    "# Apply the function to the test group considering multiple visits\n",
    "test_group_completion_times_with_visits = calculate_completion_time_with_visits(test_group_sorted)\n",
    "\n",
    "# Convert completion_time to minutes for easier interpretation\n",
    "test_group_completion_times_with_visits['completion_time_minutes'] = test_group_completion_times_with_visits['completion_time'].dt.total_seconds() / 60\n",
    "\n",
    "# Calculate the IQR (Interquartile Range) for completion time\n",
    "Q1 = test_group_completion_times_with_visits['completion_time_minutes'].quantile(0.25)\n",
    "Q3 = test_group_completion_times_with_visits['completion_time_minutes'].quantile(0.75)\n",
    "IQR = Q3 - Q1\n",
    "\n",
    "# Define the upper and lower bounds for outliers\n",
    "lower_bound = Q1 - 1.5 * IQR\n",
    "upper_bound = Q3 + 1.5 * IQR\n",
    "\n",
    "# Filter out the outliers based on IQR\n",
    "filtered_data = test_group_completion_times_with_visits[\n",
    "    (test_group_completion_times_with_visits['completion_time_minutes'] >= lower_bound) &\n",
    "    (test_group_completion_times_with_visits['completion_time_minutes'] <= upper_bound)\n",
    "]\n",
    "\n",
    "#calculate the average completion time in minutes for each process step, after removing outliers\n",
    "average_completion_time_minutes_filtered_test = filtered_data.groupby('process_step')['completion_time_minutes'].mean().reset_index()\n",
    "display(average_completion_time_minutes_filtered_test)"
   ]
  },
  {
   "cell_type": "markdown",
   "id": "6c53ae93-cce3-49c7-9628-a2a647784dc7",
   "metadata": {},
   "source": [
    "### Completion time analysis with outliers"
   ]
  },
  {
   "cell_type": "code",
   "execution_count": 43,
   "id": "3ead9106-32a1-4723-94dd-0c22c9d01e36",
   "metadata": {},
   "outputs": [
    {
     "name": "stdout",
     "output_type": "stream",
     "text": [
      "Average duration: 0 days 22:42:16.093893650\n",
      "Duration mode: 0   0 days 00:02:16\n",
      "Name: process_duration, dtype: timedelta64[ns]\n",
      "Duration median: 0 days 00:03:48\n"
     ]
    }
   ],
   "source": [
    "# filter to get the latest start for each client\n",
    "starts_only = df_merged[df_merged['process_step'] == 'start']\n",
    "latest_starts = starts_only.loc[starts_only.groupby('client_id')['date_time'].idxmax()]\n",
    "\n",
    "# filter to get the last confirmation for each client\n",
    "confirmation_only = df_merged[df_merged['process_step'] == 'confirm']\n",
    "latest_confirms = confirmation_only.loc[confirmation_only.groupby('client_id')['date_time'].idxmax()]\n",
    "\n",
    "# merge to have both latest start and confirm per client\n",
    "# Confirming datetime columns are of Timestamp type in merged DataFrame\n",
    "latest_start_confirms = pd.merge(latest_starts, latest_confirms, on='client_id', suffixes=('_start', '_confirm'))\n",
    "\n",
    "# calculate process duration for those who completed the process\n",
    "latest_start_confirms['process_duration'] = latest_start_confirms['date_time_confirm'] - latest_start_confirms['date_time_start']\n",
    "\n",
    "# Scalculate the average duration and compare with mode and mean\n",
    "print(\"Average duration:\", latest_start_confirms['process_duration'].mean())\n",
    "print(\"Duration mode:\", latest_start_confirms['process_duration'].mode())\n",
    "print(\"Duration median:\", latest_start_confirms['process_duration'].median())\n"
   ]
  },
  {
   "cell_type": "markdown",
   "id": "c9468952-b493-4e90-bce5-40c0a0d81d8d",
   "metadata": {},
   "source": [
    "### Completion time analysis without outliers in general (not divided by A/B)"
   ]
  },
  {
   "cell_type": "code",
   "execution_count": 46,
   "id": "dc0f1e4a-4604-4b64-bbdb-dfdefcdf6aa9",
   "metadata": {},
   "outputs": [
    {
     "name": "stdout",
     "output_type": "stream",
     "text": [
      "Average duration in total for both groups without outliers: 0 days 00:04:18.338016588\n",
      "Median duration in total for both groups without outliers: 0 days 00:03:33\n"
     ]
    },
    {
     "name": "stderr",
     "output_type": "stream",
     "text": [
      "/var/folders/7h/j883bpy50yx9ffn06wrdxzy00000gn/T/ipykernel_1378/2712230460.py:18: SettingWithCopyWarning: \n",
      "A value is trying to be set on a copy of a slice from a DataFrame.\n",
      "Try using .loc[row_indexer,col_indexer] = value instead\n",
      "\n",
      "See the caveats in the documentation: https://pandas.pydata.org/pandas-docs/stable/user_guide/indexing.html#returning-a-view-versus-a-copy\n",
      "  filtered_data['process_duration'] = pd.to_timedelta(filtered_data['process_duration_seconds'], unit='s')\n"
     ]
    }
   ],
   "source": [
    "# Convert the timedelta to seconds for easier manipulation\n",
    "latest_start_confirms['process_duration_seconds'] = latest_start_confirms['process_duration'].dt.total_seconds()\n",
    "\n",
    "# Calculate the IQR (Interquartile Range)\n",
    "Q1 = latest_start_confirms['process_duration_seconds'].quantile(0.25)\n",
    "Q3 = latest_start_confirms['process_duration_seconds'].quantile(0.75)\n",
    "IQR = Q3 - Q1\n",
    "\n",
    "# Define the upper and lower bounds for outliers\n",
    "lower_bound = Q1 - 1.5 * IQR\n",
    "upper_bound = Q3 + 1.5 * IQR\n",
    "\n",
    "# Filter out the outliers based on IQR\n",
    "filtered_data = latest_start_confirms[(latest_start_confirms['process_duration_seconds'] >= lower_bound) &\n",
    "                                      (latest_start_confirms['process_duration_seconds'] <= upper_bound)]\n",
    "\n",
    "# Convert process_duration back to Timedelta\n",
    "filtered_data['process_duration'] = pd.to_timedelta(filtered_data['process_duration_seconds'], unit='s')\n",
    "\n",
    "# Calculate the average process duration again after removing outliers\n",
    "print(\"Average duration in total for both groups without outliers:\", filtered_data['process_duration'].mean())\n",
    "print(\"Median duration in total for both groups without outliers:\", filtered_data['process_duration'].median())\n"
   ]
  },
  {
   "cell_type": "markdown",
   "id": "7d80c553-9726-4e99-a7ba-95723fab55f3",
   "metadata": {},
   "source": [
    "### Completion time analysis only for users that have done the whole process (from start to confirm)"
   ]
  },
  {
   "cell_type": "code",
   "execution_count": 16,
   "id": "0457c754-bd10-4bda-b403-a66fc5df7cf8",
   "metadata": {},
   "outputs": [
    {
     "name": "stdout",
     "output_type": "stream",
     "text": [
      "Test Group Average Completion Time (Filtered):\n",
      "  process_step  completion_time_minutes\n",
      "0        start                 0.607488\n",
      "1       step_1                 0.754744\n",
      "2       step_2                 1.266677\n",
      "3       step_3                 1.111256\n",
      "4      confirm                 1.267647\n",
      "\n",
      "Control Group Average Completion Time (Filtered):\n",
      "  process_step  completion_time_minutes\n",
      "0        start                 0.558910\n",
      "1       step_1                 0.647344\n",
      "2       step_2                 1.215537\n",
      "3       step_3                 1.288399\n",
      "4      confirm                 0.601297\n"
     ]
    },
    {
     "name": "stderr",
     "output_type": "stream",
     "text": [
      "/var/folders/7h/j883bpy50yx9ffn06wrdxzy00000gn/T/ipykernel_1234/3503089040.py:31: SettingWithCopyWarning: \n",
      "A value is trying to be set on a copy of a slice from a DataFrame.\n",
      "Try using .loc[row_indexer,col_indexer] = value instead\n",
      "\n",
      "See the caveats in the documentation: https://pandas.pydata.org/pandas-docs/stable/user_guide/indexing.html#returning-a-view-versus-a-copy\n",
      "  group_df['completion_time'] = group_df['next_step_time'] - group_df['date_time']\n",
      "/var/folders/7h/j883bpy50yx9ffn06wrdxzy00000gn/T/ipykernel_1234/3503089040.py:31: SettingWithCopyWarning: \n",
      "A value is trying to be set on a copy of a slice from a DataFrame.\n",
      "Try using .loc[row_indexer,col_indexer] = value instead\n",
      "\n",
      "See the caveats in the documentation: https://pandas.pydata.org/pandas-docs/stable/user_guide/indexing.html#returning-a-view-versus-a-copy\n",
      "  group_df['completion_time'] = group_df['next_step_time'] - group_df['date_time']\n",
      "/var/folders/7h/j883bpy50yx9ffn06wrdxzy00000gn/T/ipykernel_1234/3503089040.py:61: FutureWarning: The default of observed=False is deprecated and will be changed to True in a future version of pandas. Pass observed=False to retain current behavior or observed=True to adopt the future default and silence this warning.\n",
      "  average_completion_whole_process_test = filtered_test_data.groupby('process_step')['completion_time_minutes'].mean().reset_index()\n",
      "/var/folders/7h/j883bpy50yx9ffn06wrdxzy00000gn/T/ipykernel_1234/3503089040.py:79: FutureWarning: The default of observed=False is deprecated and will be changed to True in a future version of pandas. Pass observed=False to retain current behavior or observed=True to adopt the future default and silence this warning.\n",
      "  average_completion_whole_process_control = filtered_control_data.groupby('process_step')['completion_time_minutes'].mean().reset_index()\n"
     ]
    }
   ],
   "source": [
    "# Define the required process steps\n",
    "required_steps = ['start', 'step_1', 'step_2', 'step_3', 'confirm']\n",
    "\n",
    "# Function to check if a session went through all required steps\n",
    "def has_completed_all_steps(group_df, required_steps):\n",
    "    steps_in_session = group_df['process_step'].unique()\n",
    "    return all(step in steps_in_session for step in required_steps)\n",
    "\n",
    "# Filter for clients that went through all required steps (i.e., complete sessions)\n",
    "full_sessions = df_merged.groupby('client_id').filter(lambda group: has_completed_all_steps(group, required_steps))\n",
    "\n",
    "# Filter for the test group only from full sessions\n",
    "test_group = full_sessions[full_sessions['variation'] == 'Test']\n",
    "# Sort by client_id, visit_id, and process_step (in the custom order), followed by date_time\n",
    "test_group = test_group.sort_values(by=['client_id', 'visit_id', 'process_step', 'date_time'])\n",
    "\n",
    "# Filter for the control group only from full sessions\n",
    "control_group = full_sessions[full_sessions['variation'] == 'Control']\n",
    "# Sort by client_id, visit_id, and process_step (in the custom order), followed by date_time\n",
    "control_group = control_group.sort_values(by=['client_id', 'visit_id', 'process_step', 'date_time'])\n",
    "\n",
    "# Function to calculate completion time for each step, only considering complete sessions\n",
    "def calculate_completion_time_with_visits(group_df):\n",
    "    # Create a new column to store the next step time for each visit\n",
    "    group_df['next_step_time'] = group_df.groupby(['client_id', 'visit_id'])['date_time'].shift(-1)\n",
    "    \n",
    "    # Only keep rows where the next step exists (i.e., not NaT)\n",
    "    group_df = group_df.dropna(subset=['next_step_time'])\n",
    "    \n",
    "    # Calculate the completion time as the time difference between current and next step\n",
    "    group_df['completion_time'] = group_df['next_step_time'] - group_df['date_time']\n",
    "    \n",
    "    return group_df[['client_id', 'visit_id', 'process_step', 'date_time', 'next_step_time', 'completion_time']]\n",
    "\n",
    "# Apply the function to the test group considering multiple visits\n",
    "test_group_completion_times_with_visits = calculate_completion_time_with_visits(test_group)\n",
    "\n",
    "# Apply the same function to the control group considering multiple visits\n",
    "control_group_completion_times_with_visits = calculate_completion_time_with_visits(control_group)\n",
    "\n",
    "# Convert completion_time to minutes for easier interpretation\n",
    "test_group_completion_times_with_visits['completion_time_minutes'] = test_group_completion_times_with_visits['completion_time'].dt.total_seconds() / 60\n",
    "control_group_completion_times_with_visits['completion_time_minutes'] = control_group_completion_times_with_visits['completion_time'].dt.total_seconds() / 60\n",
    "\n",
    "# Calculate the IQR (Interquartile Range) for completion time for test group\n",
    "Q1_test = test_group_completion_times_with_visits['completion_time_minutes'].quantile(0.25)\n",
    "Q3_test = test_group_completion_times_with_visits['completion_time_minutes'].quantile(0.75)\n",
    "IQR_test = Q3_test - Q1_test\n",
    "\n",
    "# Define the upper and lower bounds for outliers in test group\n",
    "lower_bound_test = Q1_test - 1.5 * IQR_test\n",
    "upper_bound_test = Q3_test + 1.5 * IQR_test\n",
    "\n",
    "# Filter out the outliers based on IQR for test group\n",
    "filtered_test_data = test_group_completion_times_with_visits[\n",
    "    (test_group_completion_times_with_visits['completion_time_minutes'] >= lower_bound_test) &\n",
    "    (test_group_completion_times_with_visits['completion_time_minutes'] <= upper_bound_test)\n",
    "]\n",
    "\n",
    "# Now calculate the average completion time in minutes for each process step, after removing outliers for test group\n",
    "average_completion_whole_process_test = filtered_test_data.groupby('process_step')['completion_time_minutes'].mean().reset_index()\n",
    "\n",
    "# Calculate the IQR (Interquartile Range) for completion time for control group\n",
    "Q1_control = control_group_completion_times_with_visits['completion_time_minutes'].quantile(0.25)\n",
    "Q3_control = control_group_completion_times_with_visits['completion_time_minutes'].quantile(0.75)\n",
    "IQR_control = Q3_control - Q1_control\n",
    "\n",
    "# Define the upper and lower bounds for outliers in control group\n",
    "lower_bound_control = Q1_control - 1.5 * IQR_control\n",
    "upper_bound_control = Q3_control + 1.5 * IQR_control\n",
    "\n",
    "# Filter out the outliers based on IQR for control group\n",
    "filtered_control_data = control_group_completion_times_with_visits[\n",
    "    (control_group_completion_times_with_visits['completion_time_minutes'] >= lower_bound_control) &\n",
    "    (control_group_completion_times_with_visits['completion_time_minutes'] <= upper_bound_control)\n",
    "]\n",
    "\n",
    "# Now calculate the average completion time in minutes for each process step, after removing outliers for control group\n",
    "average_completion_whole_process_control = filtered_control_data.groupby('process_step')['completion_time_minutes'].mean().reset_index()\n",
    "\n",
    "# Display the results for both groups\n",
    "print(\"Test Group Average Completion Time (Filtered):\")\n",
    "print(average_completion_whole_process_test)\n",
    "print(\"\\nControl Group Average Completion Time (Filtered):\")\n",
    "print(average_completion_whole_process_control)\n"
   ]
  }
 ],
 "metadata": {
  "kernelspec": {
   "display_name": "Python 3 (ipykernel)",
   "language": "python",
   "name": "python3"
  },
  "language_info": {
   "codemirror_mode": {
    "name": "ipython",
    "version": 3
   },
   "file_extension": ".py",
   "mimetype": "text/x-python",
   "name": "python",
   "nbconvert_exporter": "python",
   "pygments_lexer": "ipython3",
   "version": "3.12.4"
  }
 },
 "nbformat": 4,
 "nbformat_minor": 5
}
