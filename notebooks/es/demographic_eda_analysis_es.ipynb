{
 "cells": [
  {
   "cell_type": "code",
   "execution_count": null,
   "id": "36c71ab5-b2a3-473f-b138-b5680be62144",
   "metadata": {},
   "outputs": [],
   "source": [
    "import pandas as pd\n",
    "import matplotlib.pyplot as plt\n",
    "import seaborn as sns\n",
    "import numpy as np\n",
    "import \n",
    "\n",
    "%matplotlib inline"
   ]
  },
  {
   "cell_type": "code",
   "execution_count": null,
   "id": "bb8ad1f4-d548-41a4-a0f6-f7a5926cdac3",
   "metadata": {},
   "outputs": [],
   "source": [
    "df_1 = pd.read_csv(r'/Users/eliskasimova/Desktop/data_analytics_course_2024/project_folder/labs/second_project/data/raw/df_final_demo.txt')"
   ]
  },
  {
   "cell_type": "code",
   "execution_count": null,
   "id": "aff0f521-fc32-43d3-8d59-ff327258fc0a",
   "metadata": {},
   "outputs": [],
   "source": [
    "def clean_df_final_demo():\n",
    "    #key fields client_id, clnt_age, gender, num_accts, balance, clnt_tenure_yr\n",
    "    df_copy = pd.read_csv(\"df_final_demo.txt\")\n",
    "    df_copy = df_copy.dropna()\n",
    "    corrected_columns = {\"gendr\" : \"gender\", \"bal\" : \"balance\"}\n",
    "    df_copy.rename(columns=corrected_columns, inplace = True)\n",
    "    df_copy = df_copy[df_copy['gender'] != 'X']    \n",
    "    gender_mapping = {\n",
    "    'M': 'Male',\n",
    "    'F': 'Female',\n",
    "    'U': 'Unknown',\n",
    "    }\n",
    "    df_copy['gender'] = df_copy['gender'].map(gender_mapping)\n",
    "    return df_copy\n",
    "\n",
    "df_1 = clean_df_final_demo()"
   ]
  },
  {
   "cell_type": "code",
   "execution_count": null,
   "id": "df86fc7e-cb3e-4553-9e85-fb228f407350",
   "metadata": {},
   "outputs": [],
   "source": [
    "def clean_df_experiment_clients():\n",
    "    df_copy = pd.read_csv(\"df_final_experiment_clients.txt\")\n",
    "    df_copy = df_copy.dropna() # dropping the NaN values\n",
    "    df_copy.rename(columns={'Variation': 'variation'}, inplace=True)\n",
    "    return df_copy\n",
    "\n",
    "df_3 = clean_df_experiment_clients()"
   ]
  },
  {
   "cell_type": "code",
   "execution_count": null,
   "id": "1b6c1e72-22d1-4ef7-8083-9514f27272d5",
   "metadata": {},
   "outputs": [],
   "source": [
    "df_merged = df_1.merge(df_3, on='client_id', how='inner')\n",
    "df_merged.dtypes\n",
    "df_1[\"client_id\"].nunique()"
   ]
  },
  {
   "cell_type": "code",
   "execution_count": null,
   "id": "3a89656a-3d7c-4e61-8d38-8e331262c70c",
   "metadata": {},
   "outputs": [],
   "source": [
    "# -------------------------------------\n",
    "# Demographics analysis\n",
    "# -------------------------------------\n",
    "# #####################################\n",
    "# age analysis\n",
    "# #####################################\n",
    "print(df_1['clnt_age'].value_counts());\n",
    "sns.histplot(df_1['clnt_age'], bins=20, kde=True)\n",
    "plt.xlabel('Client age')\n",
    "plt.savefig(\"client_age.png\", dpi=300)\n",
    "plt.ylabel('Number of clients')"
   ]
  },
  {
   "cell_type": "markdown",
   "id": "dd217aa1-975b-4d8f-af0f-5f0c8a96aa69",
   "metadata": {},
   "source": [
    "## Gender analysis"
   ]
  },
  {
   "cell_type": "code",
   "execution_count": null,
   "id": "893a6a79-d8b0-4c97-bb6b-3692310580eb",
   "metadata": {},
   "outputs": [],
   "source": [
    "# overview\n",
    "# #####################################\n",
    "\n",
    "primary_clients = df_1.groupby('gender').agg({\n",
    "    'clnt_age': ['mean', 'median'],\n",
    "    'clnt_tenure_yr': ['mean', 'median'],\n",
    "    'balance': ['mean', 'median']\n",
    "})\n",
    "\n",
    "# Define the custom color palette from coolwarm\n",
    "# We'll take three distinct colors from the coolwarm palette\n",
    "palette = sns.color_palette(\"coolwarm\", n_colors=3)  # Get 3 colors from the coolwarm palette\n",
    "\n",
    "# Mapping the colors to gender categories manually (assuming the unique genders are \"Male\", \"Female\", \"Unknown\")\n",
    "gender_colors = {\n",
    "    'Male': palette[0],  # First color (coolest color in coolwarm palette)\n",
    "    'Female': palette[2],  # Last color (warmest color in coolwarm palette)\n",
    "    'Unknown': palette[1]  # Middle color\n",
    "}\n",
    "\n",
    "# Plot the gender distribution pie chart\n",
    "fig, ax = plt.subplots()\n",
    "df_1['gender'].value_counts().plot(\n",
    "    kind='pie',\n",
    "    autopct=lambda pct: f'{pct:.1f}%',  # Format percentages\n",
    "    colors=[gender_colors.get(gender, 'grey') for gender in df_merged['gender'].value_counts().index],  # Apply custom colors based on gender\n",
    "    startangle=90,  # Start from 90 degrees for better alignment\n",
    "    ax=ax\n",
    ")\n",
    "\n",
    "# Add a title\n",
    "plt.title('Gender Distribution')\n",
    "plt.ylabel('')  # Suppress the default ylabel\n",
    "plt.tight_layout()  # Ensure no clipping of text\n",
    "plt.savefig(\"gender_distribution_coolwarm.png\", dpi=300)\n",
    "plt.show()\n"
   ]
  },
  {
   "cell_type": "markdown",
   "id": "8f13c6a6-ddf5-45ea-a95c-271d134ec3b6",
   "metadata": {},
   "source": [
    "### Tenure Distribution"
   ]
  },
  {
   "cell_type": "code",
   "execution_count": null,
   "id": "b4409849-7b13-4c22-a582-ddfff3581c20",
   "metadata": {},
   "outputs": [],
   "source": [
    "# how long clients have been with Vanguard\n",
    "# #####################################\n",
    "print(\"tenure_mean:\", df_1['clnt_tenure_yr'].mean().round(2))\n",
    "print(\"balance_mean:\", df_1['balance'].mean().round(2))\n",
    "\n",
    "# #####################################\n",
    "sns.histplot(df_1['clnt_tenure_yr'], bins=15, kde=True)\n",
    "plt.title('Tenure distribution')\n",
    "plt.xlabel('Years of tenure')\n",
    "plt.ylabel('Frequency')\n",
    "plt.savefig(\"client_tenure.png\", format='png', dpi=300);\n",
    "\n",
    "\n",
    "plt.show()"
   ]
  },
  {
   "cell_type": "markdown",
   "id": "5babce28-c270-4a52-b3d5-05d435870b69",
   "metadata": {},
   "source": [
    "### Age groups sorted by tenure and balance"
   ]
  },
  {
   "cell_type": "code",
   "execution_count": null,
   "id": "d06d16df-f22b-4a4c-a70f-4fe9b778ce7c",
   "metadata": {},
   "outputs": [],
   "source": [
    "# Define age bins and categorize ages\n",
    "bins = [0, 30, 40, 50, 100]  # Age intervals\n",
    "labels = ['Under 30', '30-39', '40-49', '50 and above']\n",
    "df_1['age_group'] = pd.cut(df_1['clnt_age'], bins=bins, labels=labels)\n",
    "\n",
    "# Group by gender and age group, aggregating both tenure and balance\n",
    "client_age_tenure_balance = df_1.groupby(['gender', 'age_group']).agg({\n",
    "    'clnt_tenure_yr': 'mean',\n",
    "    'balance': 'mean'\n",
    "}).reset_index().round(2)\n",
    "\n",
    "# Find the group with the maximum average tenure\n",
    "highest_tenure_group = client_age_tenure_balance.loc[client_age_tenure_balance['clnt_tenure_yr'].idxmax()]\n",
    "\n",
    "# Find the group with the maximum average balance\n",
    "highest_balance_group = client_age_tenure_balance.loc[client_age_tenure_balance['balance'].idxmax()]\n",
    "\n",
    "print(\"Group with highest average tenure and balance:\")\n",
    "print(highest_tenure_group)\n",
    "\n",
    "# Display the aggregated DataFrame\n",
    "client_age_tenure_balance"
   ]
  },
  {
   "cell_type": "markdown",
   "id": "4e13f443-f09c-4cd3-b32c-dea93e802dc8",
   "metadata": {},
   "source": [
    "### Potential persona"
   ]
  },
  {
   "cell_type": "code",
   "execution_count": null,
   "id": "6f002669-180b-4c38-b28b-7eb688a18137",
   "metadata": {},
   "outputs": [],
   "source": [
    "# Find the closest match to the overall average persona in terms of gender and age group\n",
    "closest_to_avg = client_age_tenure_balance.iloc[\n",
    "    ((client_age_tenure_balance['clnt_tenure_yr'] - average_tenure).abs() +\n",
    "     (client_age_tenure_balance['balance'] - average_balance).abs()).idxmin()\n",
    "]\n",
    "\n",
    "# Create the \"average persona\" based on these averages\n",
    "average_persona = {\n",
    "    'average_tenure': average_tenure,\n",
    "    'average_balance': average_balance,\n",
    "    'gender': closest_to_avg['gender'],\n",
    "    'age_group': closest_to_avg['age_group']\n",
    "}\n",
    "\n",
    "print(\"Potential Persona:\")\n",
    "print(f\"Gender: {average_persona['gender']}\")\n",
    "print(f\"Age Group: {average_persona['age_group']}\")\n",
    "print(f\"Average Tenure: {average_persona['average_tenure']} years\")\n",
    "print(f\"Average Balance: ${average_persona['average_balance']:,.2f}\")"
   ]
  },
  {
   "cell_type": "markdown",
   "id": "adc84e44-9e36-4f5c-a6e8-889b5f0d1f6b",
   "metadata": {},
   "source": [
    "### Line charts per age group x balance / client tenure"
   ]
  },
  {
   "cell_type": "code",
   "execution_count": null,
   "id": "7a07c79d-89b9-42e8-b8cd-67e45bc8c6d8",
   "metadata": {},
   "outputs": [],
   "source": [
    "fig, axes = plt.subplots(2, 1, figsize=(10, 12), sharex=True)\n",
    "\n",
    "# Line Plot for Tenure\n",
    "sns.lineplot(\n",
    "    data=client_age_tenure_balance,\n",
    "    x='age_group',\n",
    "    y='clnt_tenure_yr',\n",
    "    hue='gender',\n",
    "    marker='o',\n",
    "    ax=axes[0],\n",
    "    palette='coolwarm'\n",
    ")\n",
    "axes[0].set_title(\"Average Tenure by Age Group and Gender\")\n",
    "axes[0].set_ylabel(\"Average Tenure (Years)\")\n",
    "axes[0].set_xlabel(\"\")\n",
    "axes[0].legend(title=\"Gender\")\n",
    "\n",
    "# Line Plot for Balance\n",
    "sns.lineplot(\n",
    "    data=client_age_tenure_balance,\n",
    "    x='age_group',\n",
    "    y='balance',\n",
    "    hue='gender',\n",
    "    marker='o',\n",
    "    linestyle='--',\n",
    "    ax=axes[1],\n",
    "    palette='coolwarm'\n",
    ")\n",
    "axes[1].set_title(\"Average Balance by Age Group and Gender\")\n",
    "axes[1].set_ylabel(\"Average Balance ($)\")\n",
    "axes[1].set_xlabel(\"Age Group\")\n",
    "axes[1].legend(title=\"Gender\")\n",
    "\n",
    "plt.tight_layout()\n",
    "plt.savefig(\"average_accounts.png\")\n",
    "\n",
    "plt.show()\n"
   ]
  },
  {
   "cell_type": "code",
   "execution_count": null,
   "id": "10c94756-ffc6-4c3c-9dd2-5d9bcac62f32",
   "metadata": {},
   "outputs": [],
   "source": [
    "# Group by gender and age group, aggregating both tenure and balance\n",
    "logs_calls_accounts = df_1.groupby(['gender', 'age_group']).agg({\n",
    "    'num_accts': 'mean',\n",
    "    'calls_6_mnth': 'mean',\n",
    "    'logons_6_mnth': 'mean'\n",
    "}).reset_index().round(2)\n",
    "\n",
    "# Display the aggregated DataFrame\n",
    "logs_calls_accounts"
   ]
  },
  {
   "cell_type": "code",
   "execution_count": null,
   "id": "00b17304-31da-4f94-877b-1d262e756e00",
   "metadata": {},
   "outputs": [],
   "source": [
    "# Plot for Number of Accounts\n",
    "plt.figure(figsize=(10, 6))\n",
    "sns.lineplot(\n",
    "    data=logs_calls_accounts,\n",
    "    x='age_group',\n",
    "    y='num_accts',\n",
    "    hue='gender',\n",
    "    marker='o',\n",
    "    palette='coolwarm'\n",
    ")\n",
    "plt.title(\"Average Number of Accounts\")\n",
    "plt.ylabel(\"Average Number of Accounts\")\n",
    "plt.xlabel(\"Age Group\")\n",
    "plt.legend(title=\"Gender\")\n",
    "plt.tight_layout()\n",
    "plt.savefig(\"average_accounts.png\")\n",
    "plt.show()\n",
    "\n",
    "# Plot for Calls in the Last 6 Months\n",
    "plt.figure(figsize=(10, 6))\n",
    "sns.lineplot(\n",
    "    data=logs_calls_accounts,\n",
    "    x='age_group',\n",
    "    y='calls_6_mnth',\n",
    "    hue='gender',\n",
    "    marker='o',\n",
    "    linestyle='--',\n",
    "    palette='coolwarm'\n",
    ")\n",
    "plt.title(\"Average Calls in Last 6 Months\")\n",
    "plt.ylabel(\"Average Calls\")\n",
    "plt.xlabel(\"Age Group\")\n",
    "plt.legend(title=\"Gender\")\n",
    "plt.tight_layout()\n",
    "plt.savefig(\"average_calls.png\")\n",
    "plt.show()\n",
    "\n",
    "# Plot for Logons in the Last 6 Months\n",
    "plt.figure(figsize=(10, 6))\n",
    "sns.lineplot(\n",
    "    data=logs_calls_accounts,\n",
    "    x='age_group',\n",
    "    y='logons_6_mnth',\n",
    "    hue='gender',\n",
    "    marker='o',\n",
    "    linestyle=':',\n",
    "    palette='coolwarm'\n",
    ")\n",
    "plt.title(\"Average Logons in Last 6 Months\")\n",
    "plt.ylabel(\"Average Logons\")\n",
    "plt.xlabel(\"Age Group\")\n",
    "plt.legend(title=\"Gender\")\n",
    "plt.tight_layout()\n",
    "plt.savefig(\"average_logs.png\")\n",
    "plt.show()\n",
    "\n"
   ]
  }
 ],
 "metadata": {
  "kernelspec": {
   "display_name": "Python 3 (ipykernel)",
   "language": "python",
   "name": "python3"
  },
  "language_info": {
   "codemirror_mode": {
    "name": "ipython",
    "version": 3
   },
   "file_extension": ".py",
   "mimetype": "text/x-python",
   "name": "python",
   "nbconvert_exporter": "python",
   "pygments_lexer": "ipython3",
   "version": "3.12.4"
  }
 },
 "nbformat": 4,
 "nbformat_minor": 5
}
