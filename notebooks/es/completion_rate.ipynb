{
 "cells": [
  {
   "cell_type": "code",
   "execution_count": 2,
   "id": "2ac9acb5-99c0-4b7f-8768-f298649b7f37",
   "metadata": {},
   "outputs": [],
   "source": [
    "import pandas as pd\n",
    "import matplotlib.pyplot as plt\n",
    "import seaborn as sns\n",
    "import numpy as np\n",
    "import plotly.graph_objects as go\n",
    "import scipy.stats as st\n",
    "%matplotlib inline"
   ]
  },
  {
   "cell_type": "code",
   "execution_count": 3,
   "id": "e443966e-15ab-43e8-b1c4-cb39257f2b87",
   "metadata": {
    "scrolled": true
   },
   "outputs": [],
   "source": [
    "df_1 = pd.read_csv(r'/Users/eliskasimova/Desktop/data_analytics_course_2024/project_folder/labs/second_project/data/clean/df_merged.csv')\n",
    "df_2 = pd.read_csv(r'/Users/eliskasimova/Desktop/data_analytics_course_2024/project_folder/labs/second_project/data/raw/df_final_web_data_pt_1.txt')\n",
    "df_3 = pd.read_csv(r'/Users/eliskasimova/Desktop/data_analytics_course_2024/project_folder/labs/second_project/data/raw/df_final_web_data_pt_2.txt')\n",
    "merged_df = pd.concat([df_2, df_3], axis=0)\n",
    "\n",
    "df_merged = df_1.merge(merged_df, on='client_id', how='inner')\n",
    "df_merged['date_time'] = pd.to_datetime(df_merged['date_time'])"
   ]
  },
  {
   "cell_type": "markdown",
   "id": "ac6462d6-51fd-4b80-ac58-9d51704622de",
   "metadata": {},
   "source": [
    "### Groups sorting to control/test"
   ]
  },
  {
   "cell_type": "code",
   "execution_count": 6,
   "id": "0b667030-dcbf-4ef8-a6fa-da2f4e2fb1e1",
   "metadata": {},
   "outputs": [],
   "source": [
    "control_group = df_merged[df_merged['variation'] == 'Control']\n",
    "test_group = df_merged[df_merged['variation'] == 'Test']\n",
    "\n",
    "# Sort control group\n",
    "control_group_sorted = control_group.sort_values(by=['client_id', 'visit_id', 'process_step', 'date_time'])\n",
    "\n",
    "# Sort test group\n",
    "test_group_sorted = test_group.sort_values(by=['client_id', 'visit_id', 'process_step', 'date_time'])"
   ]
  },
  {
   "cell_type": "markdown",
   "id": "d216839a-ecc3-4069-856e-93ddb6c40502",
   "metadata": {},
   "source": [
    "### Adding age group"
   ]
  },
  {
   "cell_type": "code",
   "execution_count": 8,
   "id": "bc46dfbf-dc33-4205-a577-52d2230b760b",
   "metadata": {},
   "outputs": [],
   "source": [
    "# define age bins and categorize ages\n",
    "bins = [0, 30, 40, 50, 100] # You can decide the intervals based on your data\n",
    "labels = ['Under 30', '30-39', '40-49', '50 and above']\n",
    "df_merged['age_group'] = pd.cut(df_merged['clnt_age'], bins=bins, labels=labels)\n",
    "control_group_sorted['age_group'] = pd.cut(control_group_sorted['clnt_age'], bins=bins, labels=labels)\n",
    "test_group_sorted['age_group'] = pd.cut(test_group_sorted['clnt_age'], bins=bins, labels=labels)\n"
   ]
  },
  {
   "cell_type": "markdown",
   "id": "bdc6e399-f62b-4556-bacb-84d486898687",
   "metadata": {},
   "source": [
    "### Function to get latest starts"
   ]
  },
  {
   "cell_type": "code",
   "execution_count": 11,
   "id": "3ae95143-ada3-4c33-9881-ec2e2e94dfb5",
   "metadata": {},
   "outputs": [],
   "source": [
    "# Function to get latest starts\n",
    "def filter_latest_starts(group_df):\n",
    "    starts_only = group_df[group_df['process_step'] == 'start']\n",
    "    latest_starts = starts_only.loc[starts_only.groupby('visit_id')['date_time'].idxmax()]\n",
    "    # Merge back to get the full process after the last start\n",
    "    return df_merged.merge(latest_starts[['client_id', 'date_time']], on=['client_id', 'date_time'], how='inner')\n",
    "\n",
    "# Apply to both groups\n",
    "filtered_control = filter_latest_starts(control_group)\n",
    "filtered_test = filter_latest_starts(test_group)\n",
    "\n",
    "#Check if it works\n",
    "client_total_entries = df_merged[df_merged[\"client_id\"] == 2304905]\n",
    "client_last_start = filtered_control[filtered_control['client_id'] == 2304905 ]"
   ]
  },
  {
   "cell_type": "markdown",
   "id": "9338f783-4876-466f-96d7-07a8914dd1c5",
   "metadata": {},
   "source": [
    "### Completion rate based on visit_id (Primary metric)\n",
    "\n",
    "- number of customers who reached the end of a step out of total who started"
   ]
  },
  {
   "cell_type": "code",
   "execution_count": 15,
   "id": "40743dd6-eb2e-41ae-88ca-e25447863581",
   "metadata": {},
   "outputs": [
    {
     "name": "stdout",
     "output_type": "stream",
     "text": [
      "Control Group Within-Visit Completion Rates:\n"
     ]
    },
    {
     "data": {
      "text/html": [
       "<div>\n",
       "<style scoped>\n",
       "    .dataframe tbody tr th:only-of-type {\n",
       "        vertical-align: middle;\n",
       "    }\n",
       "\n",
       "    .dataframe tbody tr th {\n",
       "        vertical-align: top;\n",
       "    }\n",
       "\n",
       "    .dataframe thead th {\n",
       "        text-align: right;\n",
       "    }\n",
       "</style>\n",
       "<table border=\"1\" class=\"dataframe\">\n",
       "  <thead>\n",
       "    <tr style=\"text-align: right;\">\n",
       "      <th></th>\n",
       "      <th>process_step</th>\n",
       "      <th>completed_visits</th>\n",
       "      <th>started_visits</th>\n",
       "      <th>completion_rate</th>\n",
       "    </tr>\n",
       "  </thead>\n",
       "  <tbody>\n",
       "    <tr>\n",
       "      <th>0</th>\n",
       "      <td>confirm</td>\n",
       "      <td>16039</td>\n",
       "      <td>30903</td>\n",
       "      <td>51.901110</td>\n",
       "    </tr>\n",
       "    <tr>\n",
       "      <th>1</th>\n",
       "      <td>step_1</td>\n",
       "      <td>23541</td>\n",
       "      <td>30903</td>\n",
       "      <td>76.177070</td>\n",
       "    </tr>\n",
       "    <tr>\n",
       "      <th>2</th>\n",
       "      <td>step_2</td>\n",
       "      <td>20131</td>\n",
       "      <td>30903</td>\n",
       "      <td>65.142543</td>\n",
       "    </tr>\n",
       "    <tr>\n",
       "      <th>3</th>\n",
       "      <td>step_3</td>\n",
       "      <td>18293</td>\n",
       "      <td>30903</td>\n",
       "      <td>59.194900</td>\n",
       "    </tr>\n",
       "  </tbody>\n",
       "</table>\n",
       "</div>"
      ],
      "text/plain": [
       "  process_step  completed_visits  started_visits  completion_rate\n",
       "0      confirm             16039           30903        51.901110\n",
       "1       step_1             23541           30903        76.177070\n",
       "2       step_2             20131           30903        65.142543\n",
       "3       step_3             18293           30903        59.194900"
      ]
     },
     "metadata": {},
     "output_type": "display_data"
    },
    {
     "name": "stdout",
     "output_type": "stream",
     "text": [
      "Test Group Within-Visit Completion Rates:\n"
     ]
    },
    {
     "data": {
      "text/html": [
       "<div>\n",
       "<style scoped>\n",
       "    .dataframe tbody tr th:only-of-type {\n",
       "        vertical-align: middle;\n",
       "    }\n",
       "\n",
       "    .dataframe tbody tr th {\n",
       "        vertical-align: top;\n",
       "    }\n",
       "\n",
       "    .dataframe thead th {\n",
       "        text-align: right;\n",
       "    }\n",
       "</style>\n",
       "<table border=\"1\" class=\"dataframe\">\n",
       "  <thead>\n",
       "    <tr style=\"text-align: right;\">\n",
       "      <th></th>\n",
       "      <th>process_step</th>\n",
       "      <th>completed_visits</th>\n",
       "      <th>started_visits</th>\n",
       "      <th>completion_rate</th>\n",
       "    </tr>\n",
       "  </thead>\n",
       "  <tbody>\n",
       "    <tr>\n",
       "      <th>0</th>\n",
       "      <td>confirm</td>\n",
       "      <td>21725</td>\n",
       "      <td>33142</td>\n",
       "      <td>65.551264</td>\n",
       "    </tr>\n",
       "    <tr>\n",
       "      <th>1</th>\n",
       "      <td>step_1</td>\n",
       "      <td>28273</td>\n",
       "      <td>33142</td>\n",
       "      <td>85.308672</td>\n",
       "    </tr>\n",
       "    <tr>\n",
       "      <th>2</th>\n",
       "      <td>step_2</td>\n",
       "      <td>24493</td>\n",
       "      <td>33142</td>\n",
       "      <td>73.903204</td>\n",
       "    </tr>\n",
       "    <tr>\n",
       "      <th>3</th>\n",
       "      <td>step_3</td>\n",
       "      <td>22180</td>\n",
       "      <td>33142</td>\n",
       "      <td>66.924145</td>\n",
       "    </tr>\n",
       "  </tbody>\n",
       "</table>\n",
       "</div>"
      ],
      "text/plain": [
       "  process_step  completed_visits  started_visits  completion_rate\n",
       "0      confirm             21725           33142        65.551264\n",
       "1       step_1             28273           33142        85.308672\n",
       "2       step_2             24493           33142        73.903204\n",
       "3       step_3             22180           33142        66.924145"
      ]
     },
     "metadata": {},
     "output_type": "display_data"
    }
   ],
   "source": [
    "#completion rate based on visit_id\n",
    "def calculate_within_visit_completion_rate(group):\n",
    "    # Total unique visits that started\n",
    "    started_visits = group[group['process_step'] == 'start']['visit_id'].nunique()\n",
    "\n",
    "    # Unique visits that completed each step\n",
    "    completed_visits = (\n",
    "        group[group['process_step'] != 'start']\n",
    "        .groupby('process_step')['visit_id']\n",
    "        .nunique()\n",
    "        .reset_index(name='completed_visits')\n",
    "    )\n",
    "\n",
    "    # Add the total started visits as a constant column\n",
    "    completed_visits['started_visits'] = started_visits\n",
    "\n",
    "    # Calculate the completion rate\n",
    "    completed_visits['completion_rate'] = (\n",
    "        completed_visits['completed_visits'] / completed_visits['started_visits']\n",
    "    ) * 100\n",
    "\n",
    "    return completed_visits\n",
    "\n",
    "# Calculate completion rates for the control and test groups\n",
    "control_completion_rate = calculate_within_visit_completion_rate(control_group_sorted)\n",
    "test_completion_rate = calculate_within_visit_completion_rate(test_group_sorted)\n",
    "\n",
    "# Display the results\n",
    "print(\"Control Group Within-Visit Completion Rates:\")\n",
    "display(control_completion_rate)\n",
    "\n",
    "print(\"Test Group Within-Visit Completion Rates:\")\n",
    "display(test_completion_rate)"
   ]
  },
  {
   "cell_type": "markdown",
   "id": "75e705cd-2b89-4ade-87b5-018bda028a5d",
   "metadata": {},
   "source": [
    "### Completion rate based on client_id (Secondary metric)"
   ]
  },
  {
   "cell_type": "code",
   "execution_count": 19,
   "id": "996ccb01-5136-4d34-92f2-3783392e650e",
   "metadata": {},
   "outputs": [
    {
     "name": "stdout",
     "output_type": "stream",
     "text": [
      "Control Group Within-Visit Completion Rates:\n"
     ]
    },
    {
     "data": {
      "text/html": [
       "<div>\n",
       "<style scoped>\n",
       "    .dataframe tbody tr th:only-of-type {\n",
       "        vertical-align: middle;\n",
       "    }\n",
       "\n",
       "    .dataframe tbody tr th {\n",
       "        vertical-align: top;\n",
       "    }\n",
       "\n",
       "    .dataframe thead th {\n",
       "        text-align: right;\n",
       "    }\n",
       "</style>\n",
       "<table border=\"1\" class=\"dataframe\">\n",
       "  <thead>\n",
       "    <tr style=\"text-align: right;\">\n",
       "      <th></th>\n",
       "      <th>process_step</th>\n",
       "      <th>completed_visits</th>\n",
       "      <th>started_visits</th>\n",
       "      <th>completion_rate</th>\n",
       "    </tr>\n",
       "  </thead>\n",
       "  <tbody>\n",
       "    <tr>\n",
       "      <th>0</th>\n",
       "      <td>confirm</td>\n",
       "      <td>15428</td>\n",
       "      <td>23391</td>\n",
       "      <td>65.956992</td>\n",
       "    </tr>\n",
       "    <tr>\n",
       "      <th>1</th>\n",
       "      <td>step_1</td>\n",
       "      <td>20146</td>\n",
       "      <td>23391</td>\n",
       "      <td>86.127143</td>\n",
       "    </tr>\n",
       "    <tr>\n",
       "      <th>2</th>\n",
       "      <td>step_2</td>\n",
       "      <td>18644</td>\n",
       "      <td>23391</td>\n",
       "      <td>79.705870</td>\n",
       "    </tr>\n",
       "    <tr>\n",
       "      <th>3</th>\n",
       "      <td>step_3</td>\n",
       "      <td>17416</td>\n",
       "      <td>23391</td>\n",
       "      <td>74.455987</td>\n",
       "    </tr>\n",
       "  </tbody>\n",
       "</table>\n",
       "</div>"
      ],
      "text/plain": [
       "  process_step  completed_visits  started_visits  completion_rate\n",
       "0      confirm             15428           23391        65.956992\n",
       "1       step_1             20146           23391        86.127143\n",
       "2       step_2             18644           23391        79.705870\n",
       "3       step_3             17416           23391        74.455987"
      ]
     },
     "metadata": {},
     "output_type": "display_data"
    },
    {
     "name": "stdout",
     "output_type": "stream",
     "text": [
      "Test Group Within-Visit Completion Rates:\n"
     ]
    },
    {
     "data": {
      "text/html": [
       "<div>\n",
       "<style scoped>\n",
       "    .dataframe tbody tr th:only-of-type {\n",
       "        vertical-align: middle;\n",
       "    }\n",
       "\n",
       "    .dataframe tbody tr th {\n",
       "        vertical-align: top;\n",
       "    }\n",
       "\n",
       "    .dataframe thead th {\n",
       "        text-align: right;\n",
       "    }\n",
       "</style>\n",
       "<table border=\"1\" class=\"dataframe\">\n",
       "  <thead>\n",
       "    <tr style=\"text-align: right;\">\n",
       "      <th></th>\n",
       "      <th>process_step</th>\n",
       "      <th>completed_visits</th>\n",
       "      <th>started_visits</th>\n",
       "      <th>completion_rate</th>\n",
       "    </tr>\n",
       "  </thead>\n",
       "  <tbody>\n",
       "    <tr>\n",
       "      <th>0</th>\n",
       "      <td>confirm</td>\n",
       "      <td>18682</td>\n",
       "      <td>26670</td>\n",
       "      <td>70.048744</td>\n",
       "    </tr>\n",
       "    <tr>\n",
       "      <th>1</th>\n",
       "      <td>step_1</td>\n",
       "      <td>24259</td>\n",
       "      <td>26670</td>\n",
       "      <td>90.959880</td>\n",
       "    </tr>\n",
       "    <tr>\n",
       "      <th>2</th>\n",
       "      <td>step_2</td>\n",
       "      <td>22252</td>\n",
       "      <td>26670</td>\n",
       "      <td>83.434571</td>\n",
       "    </tr>\n",
       "    <tr>\n",
       "      <th>3</th>\n",
       "      <td>step_3</td>\n",
       "      <td>20876</td>\n",
       "      <td>26670</td>\n",
       "      <td>78.275216</td>\n",
       "    </tr>\n",
       "  </tbody>\n",
       "</table>\n",
       "</div>"
      ],
      "text/plain": [
       "  process_step  completed_visits  started_visits  completion_rate\n",
       "0      confirm             18682           26670        70.048744\n",
       "1       step_1             24259           26670        90.959880\n",
       "2       step_2             22252           26670        83.434571\n",
       "3       step_3             20876           26670        78.275216"
      ]
     },
     "metadata": {},
     "output_type": "display_data"
    }
   ],
   "source": [
    "#completion rate based on client_id\n",
    "def calculate_within_visit_completion_rate(group):\n",
    "    # Total unique visits that started\n",
    "    started_visits = group[group['process_step'] == 'start']['client_id'].nunique()\n",
    "\n",
    "    # Unique visits that completed each step\n",
    "    completed_visits = (\n",
    "        group[group['process_step'] != 'start']\n",
    "        .groupby('process_step')['client_id']\n",
    "        .nunique()\n",
    "        .reset_index(name='completed_visits')\n",
    "    )\n",
    "\n",
    "    # Add the total started visits as a constant column\n",
    "    completed_visits['started_visits'] = started_visits\n",
    "\n",
    "    # Calculate the completion rate\n",
    "    completed_visits['completion_rate'] = (\n",
    "        completed_visits['completed_visits'] / completed_visits['started_visits']\n",
    "    ) * 100\n",
    "\n",
    "    return completed_visits\n",
    "\n",
    "# Calculate completion rates for the control and test groups\n",
    "control_completion_rate_id = calculate_within_visit_completion_rate(control_group_sorted)\n",
    "test_completion_rate_id = calculate_within_visit_completion_rate(test_group_sorted)\n",
    "\n",
    "# Display the results\n",
    "print(\"Control Group Within-Visit Completion Rates:\")\n",
    "display(control_completion_rate_id)\n",
    "\n",
    "print(\"Test Group Within-Visit Completion Rates:\")\n",
    "display(test_completion_rate_id)"
   ]
  },
  {
   "cell_type": "markdown",
   "id": "372d1592",
   "metadata": {},
   "source": [
    "### Completion rates for control and test groups based on age group"
   ]
  },
  {
   "cell_type": "code",
   "execution_count": 22,
   "id": "43c0138d-a978-4dda-9b92-3ba5c7e9ce48",
   "metadata": {},
   "outputs": [
    {
     "name": "stderr",
     "output_type": "stream",
     "text": [
      "/var/folders/7h/j883bpy50yx9ffn06wrdxzy00000gn/T/ipykernel_1232/3105315602.py:8: FutureWarning: The default of observed=False is deprecated and will be changed to True in a future version of pandas. Pass observed=False to retain current behavior or observed=True to adopt the future default and silence this warning.\n",
      "  .groupby(['process_step', 'age_group'])['client_id']\n",
      "/var/folders/7h/j883bpy50yx9ffn06wrdxzy00000gn/T/ipykernel_1232/3105315602.py:8: FutureWarning: The default of observed=False is deprecated and will be changed to True in a future version of pandas. Pass observed=False to retain current behavior or observed=True to adopt the future default and silence this warning.\n",
      "  .groupby(['process_step', 'age_group'])['client_id']\n"
     ]
    }
   ],
   "source": [
    "def calculate_within_visit_completion_rate_by_age(group):\n",
    "    # Total unique visits that started\n",
    "    started_visits = group[group['process_step'] == 'start']['client_id'].nunique()\n",
    "\n",
    "    # Unique visits that completed each step, grouped by age_group\n",
    "    completed_visits = (\n",
    "        group[group['process_step'] != 'start']\n",
    "        .groupby(['process_step', 'age_group'])['client_id']\n",
    "        .nunique()\n",
    "        .reset_index(name='completed_visits')\n",
    "    )\n",
    "\n",
    "    # Add the total started visits as a constant column\n",
    "    completed_visits['started_visits'] = started_visits\n",
    "\n",
    "    # Calculate the completion rate\n",
    "    completed_visits['completion_rate'] = (\n",
    "        completed_visits['completed_visits'] / completed_visits['started_visits']\n",
    "    ) * 100\n",
    "\n",
    "    return completed_visits\n",
    "\n",
    "# Calculate completion rates for the control and test groups based on age group\n",
    "control_completion_rate_by_age = calculate_within_visit_completion_rate_by_age(control_group_sorted)\n",
    "test_completion_rate_by_age = calculate_within_visit_completion_rate_by_age(test_group_sorted)"
   ]
  },
  {
   "cell_type": "markdown",
   "id": "9bd23675-8c15-4e13-abdc-b8eff006e080",
   "metadata": {},
   "source": [
    "### Completion rate hypothesis test using two-proportion z-test\n",
    "\n",
    "Since the new design (Test group) had a higher completion rate compared to the old design (Control group), you are required to confirm if this difference is statistically significant"
   ]
  },
  {
   "cell_type": "code",
   "execution_count": 25,
   "id": "028f324e-cba4-4303-828b-9997dd614ef7",
   "metadata": {},
   "outputs": [
    {
     "name": "stdout",
     "output_type": "stream",
     "text": [
      "Step: confirm\n",
      "Z-statistic: -35.0921\n",
      "P-value: 0.0000\n",
      "Reject the null hypothesis: There is a difference in completion rates between control and test group for step: confirm.\n",
      "\n",
      "\n",
      "Step: step_1\n",
      "Z-statistic: -29.3782\n",
      "P-value: 0.0000\n",
      "Reject the null hypothesis: There is a difference in completion rates between control and test group for step: step_1.\n",
      "\n",
      "\n",
      "Step: step_2\n",
      "Z-statistic: -24.1018\n",
      "P-value: 0.0000\n",
      "Reject the null hypothesis: There is a difference in completion rates between control and test group for step: step_2.\n",
      "\n",
      "\n",
      "Step: step_3\n",
      "Z-statistic: -20.2670\n",
      "P-value: 0.0000\n",
      "Reject the null hypothesis: There is a difference in completion rates between control and test group for step: step_3.\n",
      "\n",
      "\n"
     ]
    }
   ],
   "source": [
    "# Function to perform a two-proportion z-test\n",
    "def two_proportion_z_test(p1, p2, n1, n2):\n",
    "    # Calculate the pooled proportion\n",
    "    P = (p1 * n1 + p2 * n2) / (n1 + n2)\n",
    "    \n",
    "    # Calculate the standard error\n",
    "    SE = (P * (1 - P) * (1 / n1 + 1 / n2)) ** 0.5\n",
    "    \n",
    "    # Calculate the z-statistic\n",
    "    z = (p1 - p2) / SE\n",
    "    \n",
    "    # Calculate the p-value\n",
    "    p_value = 2 * (1 - st.norm.cdf(abs(z)))  # Two-tailed test\n",
    "    \n",
    "    return z, p_value\n",
    "\n",
    "# Hypothesis testing for each step\n",
    "steps = ['confirm', 'step_1', 'step_2', 'step_3']\n",
    "\n",
    "for step in steps:\n",
    "    # Get completion rates for both control and test groups for the current step\n",
    "    control_completions = control_completion_rate[control_completion_rate['process_step'] == step]['completion_rate'].values[0]\n",
    "    test_completions = test_completion_rate[test_completion_rate['process_step'] == step]['completion_rate'].values[0]\n",
    "    \n",
    "    control_total = control_completion_rate[control_completion_rate['process_step'] == step]['started_visits'].values[0]\n",
    "    test_total = test_completion_rate[test_completion_rate['process_step'] == step]['started_visits'].values[0]\n",
    "\n",
    "    # Calculate proportions (completion rate)\n",
    "    p_control = control_completions / 100  # Convert completion rate to a proportion\n",
    "    p_test = test_completions / 100  # Convert completion rate to a proportion\n",
    "    \n",
    "    # Perform the two-proportion z-test\n",
    "    z_stat, p_value = two_proportion_z_test(p_control, p_test, control_total, test_total)\n",
    "    \n",
    "    # Print results\n",
    "    print(f\"Step: {step}\")\n",
    "    print(f\"Z-statistic: {z_stat:.4f}\")\n",
    "    print(f\"P-value: {p_value:.4f}\")\n",
    "    \n",
    "    # Hypothesis testing interpretation\n",
    "    if p_value < 0.05:\n",
    "        print(f\"Reject the null hypothesis: There is a difference in completion rates between control and test group for step: {step}.\")\n",
    "    else:\n",
    "        print(f\"Fail to reject the null hypothesis: There is no significant difference in completion rates between control and test group for step: {step}.\")\n",
    "    print(\"\\n\")"
   ]
  },
  {
   "cell_type": "markdown",
   "id": "eadbe4cd-fff8-47ad-a8c8-935c0b97a3fc",
   "metadata": {},
   "source": [
    "### Completion Rate with a Cost-Effectiveness Threshold\n",
    "\n",
    "Threshold: Vanguard has set this minimum increase in completion rate at 5%. This is the rate at which the projected benefits, in terms of increased user engagement and potential revenue, are estimated to outweigh the costs of the new design.\n",
    "You are required to carry out another analysis, ensuring that the observed increase in completion rate from the A/B test meets or exceeds this 5% threshold. If the new design doesn’t lead to at least this level of improvement, it may not be justifiable from a cost perspective, regardless of its statistical significance."
   ]
  },
  {
   "cell_type": "code",
   "execution_count": 28,
   "id": "ad0e5692-399f-4a32-9bbb-d7bf34f49daa",
   "metadata": {},
   "outputs": [
    {
     "name": "stdout",
     "output_type": "stream",
     "text": [
      "Average completion rate per Control group: 63.10%\n",
      "Average completion rate per Test group: 72.92%\n",
      "Statistic: -1.4365\n",
      "P-value: 0.2009\n",
      "Fail to reject the null hypothesis: The completion rates are not significantly different between the Test and Control groups.\n",
      "Completion rate increase: 9.82%\n",
      "The completion rate increase meets the 5% threshold, justifying the cost of the new design.\n"
     ]
    }
   ],
   "source": [
    "from scipy.stats import ttest_ind\n",
    "\n",
    "# calculate the completion rate for each group across all steps\n",
    "control_mean = control_completion_rate['completion_rate'].mean()\n",
    "test_mean = test_completion_rate['completion_rate'].mean()\n",
    "\n",
    "# two-sample t-test to check if the completion rates are significantly different\n",
    "_, p_value = st.ttest_ind(control_completion_rate['completion_rate'], \n",
    "                                test_completion_rate['completion_rate'], \n",
    "                                alternative='two-sided')\n",
    "\n",
    "# display the results for completion rate difference significance\n",
    "print(f\"Average completion rate per Control group: {control_mean:.2f}%\")\n",
    "print(f\"Average completion rate per Test group: {test_mean:.2f}%\")\n",
    "print(f\"Statistic: {_:.4f}\") #how much the means of the two groups differ relative to the variability of the data\n",
    "print(f\"P-value: {p_value:.4f}\") #check if the difference in average tenure between the two groups is statistically significant\n",
    "\n",
    "# hypothesis test: Is the completion rate difference significant?\n",
    "alpha = 0.05  \n",
    "if p_value < alpha:\n",
    "    print(\"Reject the null hypothesis: The completion rates are significantly different between the Test and Control groups.\")\n",
    "else:\n",
    "    print(\"Fail to reject the null hypothesis: The completion rates are not significantly different between the Test and Control groups.\")\n",
    "\n",
    "# check if the increase in completion rate meets the 5% threshold\n",
    "completion_rate_increase = test_mean - control_mean\n",
    "print(f\"Completion rate increase: {completion_rate_increase:.2f}%\")\n",
    "\n",
    "# check if the increase meets or exceeds the 5% threshold\n",
    "if completion_rate_increase >= 5:\n",
    "    print(\"The completion rate increase meets the 5% threshold, justifying the cost of the new design.\")\n",
    "else:\n",
    "    print(\"The completion rate increase does not meet the 5% threshold. The new design may not justify its cost.\")\n"
   ]
  },
  {
   "cell_type": "markdown",
   "id": "cceb0b39-1153-4be6-85a0-ddd3204ae736",
   "metadata": {},
   "source": [
    "### Additional hypothesis test \n",
    "\n",
    "#### Tenure: Test if client tenure (how long they've been with Vanguard) influences engagement with the new design, using two-sample t-test"
   ]
  },
  {
   "cell_type": "code",
   "execution_count": null,
   "id": "7f606334-3678-4526-8837-0cebd060bbcc",
   "metadata": {},
   "outputs": [],
   "source": [
    "import scipy.stats as st\n",
    "\n",
    "control_uniqe = control_group_sorted.drop_duplicates(subset='client_id')\n",
    "test_unique = test_group_sorted.drop_duplicates(subset='client_id')\n",
    "\n",
    "control_tenure = control_uniqe['clnt_tenure_yr'] \n",
    "test_tenure = test_unique['clnt_tenure_yr']        \n",
    "# two-sample t-test to compare the means of tenure between the two groups\n",
    "_, p_value = st.ttest_ind(control_tenure, test_tenure, equal_var=True)  # assuming equal variance\n",
    "#results\n",
    "print(f\"Average tenure per Control group: {control_tenure.mean():.2f} years\")\n",
    "print(f\"Average tenure per Test group: {test_tenure.mean():.2f} years\")\n",
    "print(f\"Statistic: {_:.4f}\")\n",
    "print(f\"P-value: {p_value:.4f}\")\n",
    "\n",
    "# hypothesis test: Is there a significant difference in tenure between the two groups?\n",
    "alpha = 0.05  # significance level\n",
    "\n",
    "if p_value < alpha:\n",
    "    print(\"Reject the null hypothesis: The average tenure is significantly different between the Test and Control groups.\")\n",
    "else:\n",
    "    print(\"Fail to reject the null hypothesis: The average tenure is not significantly different between the Test and Control groups.\")\n"
   ]
  },
  {
   "cell_type": "markdown",
   "id": "c312fc03-ca01-4b67-ade2-9764bfe08fc3",
   "metadata": {},
   "source": [
    "#### Age: Test if the average age of clients engaging with the new design is different from those using the old design"
   ]
  },
  {
   "cell_type": "code",
   "execution_count": null,
   "id": "52197c62-2bc7-40dd-bc2b-6e79ec953231",
   "metadata": {},
   "outputs": [],
   "source": [
    "control_uniqe = control_group_sorted.drop_duplicates(subset='client_id')\n",
    "test_unique = test_group_sorted.drop_duplicates(subset='client_id')\n",
    "\n",
    "control_age = control_uniqe['clnt_age']\n",
    "test_age = test_unique['clnt_age']\n",
    "\n",
    "# two-sample t-test to compare the means of age between the two groups\n",
    "_, p_value = st.ttest_ind(control_age, test_age, equal_var=True)  # Assuming equal variance\n",
    "\n",
    "# results\n",
    "print(f\"Control Group Mean Age: {control_age.mean():.2f} years\")\n",
    "print(f\"Test Group Mean Age: {test_age.mean():.2f} years\")\n",
    "print(f\"Statistic: {_:.4f}\")\n",
    "print(f\"P-value: {p_value:.4f}\")\n",
    "\n",
    "# hypothesis test: Is there a significant difference in age between the two groups?\n",
    "alpha = 0.05  #\n",
    "\n",
    "if p_value < alpha:\n",
    "    print(\"Reject the null hypothesis: The average age is different between the Test and Control groups.\")\n",
    "else:\n",
    "    print(\"Fail to reject the null hypothesis: The average age is not significantly different between the Test and Control groups.\")"
   ]
  },
  {
   "cell_type": "markdown",
   "id": "114f634a-4b24-4e4a-86e7-1914e7e3caa7",
   "metadata": {},
   "source": [
    "The statistical test (t-test) suggests that the average ages of the two groups are indeed different. Since the p-value is less than 0.05, this indicates a statistically significant difference in age between the Test and Control groups."
   ]
  },
  {
   "cell_type": "markdown",
   "id": "a25b456c-49cf-4fa8-8bd7-185364c229c4",
   "metadata": {},
   "source": [
    "### Test & Control grouped by age group table"
   ]
  },
  {
   "cell_type": "code",
   "execution_count": null,
   "id": "8e7c2c1d-8597-4521-ac8d-6abb5ad64492",
   "metadata": {},
   "outputs": [],
   "source": [
    "control_uniqe = control_group_sorted.drop_duplicates(subset='client_id')\n",
    "test_unique = test_group_sorted.drop_duplicates(subset='client_id')\n",
    "\n",
    "# Calculate average age group for each age group in Control and Test groups\n",
    "control_age_group = control_uniqe[\"age_group\"].value_counts()\n",
    "test_age_group= test_unique[\"age_group\"].value_counts()\n",
    "\n",
    "age_groups_concat = pd.concat(\n",
    "    [control_age_group, test_age_group], \n",
    "    axis=1, \n",
    "    keys=[\"Control Group Count\", \"Test Group Count\"]\n",
    ")\n",
    "\n",
    "\n",
    "# Rename the columns for clarity\n",
    "age_groups_concat.rename(columns={\"index\": \"Age Group\"}, inplace=True)\n",
    "age_groups_concat = age_groups_concat.sort_values(by=\"age_group\", ascending=True) #sort values\n",
    "# Reset the index to create a proper DataFrame structure\n",
    "age_groups_concat = age_groups_concat.reset_index()"
   ]
  },
  {
   "cell_type": "markdown",
   "id": "0f09bdd6-eda0-436a-8d7b-4e24d1b4e264",
   "metadata": {},
   "source": [
    "### Age group x Gender table"
   ]
  },
  {
   "cell_type": "code",
   "execution_count": null,
   "id": "ad003f0f-d0ad-4086-b26b-9d6e2ecf7ab3",
   "metadata": {},
   "outputs": [],
   "source": [
    "control_age_group_gender = control_uniqe.groupby(\"age_group\")[\"gender\"].value_counts().unstack()\n",
    "test_age_group_gender = test_unique.groupby(\"age_group\")[\"gender\"].value_counts().unstack()\n",
    "\n",
    "# Reset the index to create a proper DataFrame structure\n",
    "control_age_group_gender = control_age_group_gender.reset_index()\n",
    "test_age_group_gender = test_age_group_gender.reset_index()"
   ]
  },
  {
   "cell_type": "markdown",
   "id": "c293386f-f126-4273-ad15-01c9d6f1519b",
   "metadata": {},
   "source": [
    "### Age groups x Balances table"
   ]
  },
  {
   "cell_type": "code",
   "execution_count": null,
   "id": "3d227de9-bd7c-4935-9bde-62452fb9013f",
   "metadata": {},
   "outputs": [],
   "source": [
    "#filter control and test group based on unique client_id\n",
    "control_age_group_balance= control_uniqe.groupby(\"age_group\")[\"balance\"].mean().round(2)\n",
    "test_age_group_balance = test_unique.groupby(\"age_group\")[\"balance\"].mean().round(2)\n",
    "\n",
    "# Convert the grouped Series to DataFrames\n",
    "control_age_group_balance_df = control_age_group_balance.reset_index()\n",
    "test_age_group_balance_df = test_age_group_balance.reset_index()\n",
    "\n",
    "# Rename the columns for clarity\n",
    "control_age_group_balance_df.rename(columns={\"age_group\": \"Age Group\", \"balance\": \"Control Group Balance\"}, inplace=True)\n",
    "test_age_group_balance_df.rename(columns={\"age_group\": \"Age Group\", \"balance\": \"Test Group Balance\"}, inplace=True)\n"
   ]
  },
  {
   "cell_type": "code",
   "execution_count": null,
   "id": "1f660a6a-7d91-45e4-969a-4e99e27a88a5",
   "metadata": {},
   "outputs": [],
   "source": []
  },
  {
   "cell_type": "code",
   "execution_count": null,
   "id": "4eabcba2-0657-41d6-936d-386ec8867ea0",
   "metadata": {},
   "outputs": [],
   "source": []
  }
 ],
 "metadata": {
  "kernelspec": {
   "display_name": "Python 3 (ipykernel)",
   "language": "python",
   "name": "python3"
  },
  "language_info": {
   "codemirror_mode": {
    "name": "ipython",
    "version": 3
   },
   "file_extension": ".py",
   "mimetype": "text/x-python",
   "name": "python",
   "nbconvert_exporter": "python",
   "pygments_lexer": "ipython3",
   "version": "3.12.4"
  }
 },
 "nbformat": 4,
 "nbformat_minor": 5
}
