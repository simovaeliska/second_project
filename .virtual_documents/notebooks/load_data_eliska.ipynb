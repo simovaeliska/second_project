import pandas as pd
import numpy as np


df_1 = pd.read_csv("data/raw/df_final_demo.txt")
df_1


df_1["clnt_tenure_yr"].value_counts()


df_copy = pd.read_csv("df_final_demo.txt")
df_copy = df_copy.dropna()
df_copy


df1 = pd.read_csv("df_final_demo.txt")
df1.head(10)
df1.isnull().sum()
